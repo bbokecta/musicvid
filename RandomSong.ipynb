{
 "cells": [
  {
   "cell_type": "code",
   "execution_count": 2,
   "id": "b11be319-8b85-4b6a-ae04-482080625c23",
   "metadata": {},
   "outputs": [],
   "source": [
    "import spotipy\n",
    "import json\n",
    "import webbrowser\n",
    "import urllib.request\n",
    "import spotipy.util as util\n",
    "from spotipy.oauth2 import SpotifyOAuth\n",
    "import random"
   ]
  },
  {
   "cell_type": "code",
   "execution_count": 3,
   "id": "291b977e",
   "metadata": {},
   "outputs": [
    {
     "name": "stdout",
     "output_type": "stream",
     "text": [
      "BQDNR52O9ZNplsW92B61n99nn2zD1Tp-a5PAefQcBAP-IJuGXlHgk4As2Cz4tAWFDbKzMILLc8qVK9kC_BIJh79VJ7TPFe_FcmdbduyZBYMSlHI6z93r7OWDqJhHIsjn_nW2YNw3YIsLrw8Fz3KM9mMFMBYrPXH4AW33JG012P-czAfqcw14OF1YXGwx1gIcmWDrS5y9kv0nJX-3qgEienTpHz-c3Ebk19MoElyV\n"
     ]
    }
   ],
   "source": [
    "cred = \"spotify_keys.json\"\n",
    "\n",
    "with open(cred, \"r\") as spotify_key_file:\n",
    "    api_tokens = json.load(spotify_key_file)\n",
    "\n",
    "# spotify_key_file.close()\n",
    "\n",
    "client_id = api_tokens['client_id']\n",
    "client_secret = api_tokens['client_secret']\n",
    "redirectURI = api_tokens['redirect']\n",
    "username = api_tokens['username']\n",
    "\n",
    "scope = 'user-read-private playlist-read-collaborative user-library-read'\n",
    "token = util.prompt_for_user_token(username, scope, client_id=client_id,\n",
    "                           client_secret=client_secret,\n",
    "                           redirect_uri=redirectURI)\n",
    "print(token)"
   ]
  },
  {
   "cell_type": "code",
   "execution_count": 14,
   "id": "fb41e424",
   "metadata": {},
   "outputs": [],
   "source": [
    "\n",
    "sp = spotipy.Spotify(auth=token)\n",
    "\n",
    "playlists = sp.user_playlists(username)['items']\n",
    "\n",
    "for playlist in playlists:\n",
    "    if playlist['name'] == 'MusicVidPlaylistPt2':\n",
    "        shared_playlist_id = playlist['id']\n",
    "\n",
    "shared_playlist = sp.playlist_tracks(shared_playlist_id)['items']\n",
    "# print(shared_playlist[0]['track']['name'])\n",
    "\n",
    "EMI_songs = [] \n",
    "\n",
    "for song in shared_playlist:\n",
    "    # print(song['track']['album']['id'])\n",
    "    label_info = sp.album(song['track']['album']['id'])\n",
    "    if label_info['label'] == 'EMI':\n",
    "        EMI_songs.append(song['track']['name'] + ' -- ' + label_info['label'])"
   ]
  },
  {
   "cell_type": "code",
   "execution_count": 17,
   "id": "90b9ffc8",
   "metadata": {},
   "outputs": [
    {
     "name": "stdout",
     "output_type": "stream",
     "text": [
      "After The Storm (feat. Tyler, The Creator & Bootsy Collins) -- EMI\n"
     ]
    }
   ],
   "source": [
    "\n",
    "\n",
    "song_index = random.randrange(len(EMI_songs))\n",
    "\n",
    "print(EMI_songs[song_index])"
   ]
  },
  {
   "cell_type": "code",
   "execution_count": null,
   "id": "0b05df33",
   "metadata": {},
   "outputs": [],
   "source": []
  }
 ],
 "metadata": {
  "kernelspec": {
   "display_name": "venv",
   "language": "python",
   "name": "python3"
  },
  "language_info": {
   "codemirror_mode": {
    "name": "ipython",
    "version": 3
   },
   "file_extension": ".py",
   "mimetype": "text/x-python",
   "name": "python",
   "nbconvert_exporter": "python",
   "pygments_lexer": "ipython3",
   "version": "3.12.7"
  }
 },
 "nbformat": 4,
 "nbformat_minor": 5
}
