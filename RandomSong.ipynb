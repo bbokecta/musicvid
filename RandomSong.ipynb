{
 "cells": [
  {
   "cell_type": "code",
   "execution_count": 56,
   "id": "b11be319-8b85-4b6a-ae04-482080625c23",
   "metadata": {},
   "outputs": [],
   "source": [
    "import spotipy\n",
    "import json\n",
    "import webbrowser\n",
    "import urllib.request\n",
    "import spotipy.util as util\n",
    "from spotipy.oauth2 import SpotifyOAuth\n",
    "import random"
   ]
  },
  {
   "cell_type": "code",
   "execution_count": 41,
   "id": "291b977e",
   "metadata": {},
   "outputs": [
    {
     "name": "stdout",
     "output_type": "stream",
     "text": [
      "BQCxK-lF7Od0w9suNfRqBOgIzEK8bKhfMPgqsTLP1aj4xkxUyvqWEyyL2IPbjt60X8UCqXD0QnoGQTHMFDyw8hCw_ug8PQiLWkIiFOUO7dqNB7ZmgygzzNyf-0K6J1C0GhbDfmeKbg1dJq9WhJZ_QNP_wBpBb-xSLhq-ZvQvxLaz6QeWByb05wR60Zd5ir1ULd6yYbYaTslJUfdnprCJsKX9bFB1gc4gH1by1PWi\n"
     ]
    }
   ],
   "source": [
    "cred = \"spotify_keys.json\"\n",
    "\n",
    "with open(cred, \"r\") as spotify_key_file:\n",
    "    api_tokens = json.load(spotify_key_file)\n",
    "\n",
    "# spotify_key_file.close()\n",
    "\n",
    "client_id = api_tokens['client_id']\n",
    "client_secret = api_tokens['client_secret']\n",
    "redirectURI = api_tokens['redirect']\n",
    "username = api_tokens['username']\n",
    "\n",
    "scope = 'user-read-private playlist-read-collaborative user-library-read'\n",
    "token = util.prompt_for_user_token(username, scope, client_id=client_id,\n",
    "                           client_secret=client_secret,\n",
    "                           redirect_uri=redirectURI)\n",
    "print(token)"
   ]
  },
  {
   "cell_type": "code",
   "execution_count": null,
   "id": "fb41e424",
   "metadata": {},
   "outputs": [
    {
     "name": "stdout",
     "output_type": "stream",
     "text": [
      "Show Pony -- Polydor Records\n",
      "The Path -- Universal Music New Zealand Limited\n",
      "Oscar Winning Tears. -- Human Re Sources\n",
      "BIRDS OF A FEATHER -- Darkroom/Interscope Records\n",
      "A Tear in Space (Airlock) -- Polydor Records\n",
      "Wonderful Nothing - Edit -- Polydor Records\n",
      "Feel Alive -- EMI Recorded Music Australia Pty Ltd\n",
      "Bossa No Sé (feat. Jean Carter) -- Cuco / Interscope PS\n",
      "Aura -- Walk The Trail, Inc under exclusive license to Interscope Records\n",
      "Caution -- Walk The Trail, Inc under exclusive license to Interscope Records\n",
      "Karma -- Everybody's Music\n",
      "Lovegod -- Sarah Kinsley Verve Forecast\n",
      "Creatures in Heaven -- Polydor Records\n",
      "Need You No More -- EMI\n",
      "Sink In -- PMR Records/Interscope Records\n",
      "Ghost -- Capitol Records (CAP)\n",
      "IDK You Yet -- Interscope Records\n",
      "Girl -- Interscope Records\n",
      "Slow -- Republic Records\n",
      "Strawberries & Cigarettes -- EMI Recorded Music Australia Pty Ltd\n",
      "Alaska -- Capitol Records\n",
      "Dive -- PLG - Capitol\n",
      "Stars & Shards -- EMI\n",
      "Team -- Universal Music New Zealand Limited\n",
      "Sociopathic Dance Queen -- Golden Angel/ Interscope Records\n",
      "Wait a Minute! -- Roc Nation W Smith P&D\n",
      "Lonely Road -- Willow Smith/Roc Nation\n",
      "Warm Honey -- Willow Smith/Roc Nation\n",
      "Pacer -- Top Dawg Entertainment/Capitol Records\n",
      "Mohabbat -- Arooj Aftab\n",
      "Con Te Partirò -- Universal Music Group International\n",
      "Time To Say Goodbye -- Decca Music Group Ltd.\n",
      "Man Down -- Def Jam Recordings\n",
      "Pon de Replay -- Def Jam Recordings\n",
      "Take A Bow -- Def Jam Recordings\n",
      "This Love -- Interscope Records*\n",
      "Act Up -- Quality Control Music/Motown Records\n",
      "Gasolina -- Gasolina Recording Co.\n",
      "Big Hammer -- James Blake\n",
      "If The Car Beside You Moves Ahead -- Polydor Records\n",
      "Timeless -- Polydor Records\n",
      "MOON (feat. Herbie Hancock) -- Blue Note Records\n",
      "Timeless -- Polydor Records\n",
      "The Wire -- Polydor Records\n",
      "Days Are Gone -- Polydor Records\n"
     ]
    }
   ],
   "source": [
    "\n",
    "sp = spotipy.Spotify(auth=token)\n",
    "\n",
    "playlists = sp.user_playlists(username)['items']\n",
    "\n",
    "for playlist in playlists:\n",
    "    if playlist['name'] == 'MusicVidPlaylistPt2':\n",
    "        shared_playlist_id = playlist['id']\n",
    "\n",
    "shared_playlist = sp.playlist_tracks(shared_playlist_id)['items']\n",
    "# print(shared_playlist[0]['track']['name'])\n",
    "\n",
    "for song in shared_playlist:\n",
    "    # print(song['track']['album']['id'])\n",
    "    label_info = sp.album(song['track']['album']['id'])\n",
    "    print(song['track']['name'] + ' -- ' + label_info['label'])"
   ]
  },
  {
   "cell_type": "code",
   "execution_count": 59,
   "id": "90b9ffc8",
   "metadata": {},
   "outputs": [
    {
     "name": "stdout",
     "output_type": "stream",
     "text": [
      "Days Are Gone\n"
     ]
    }
   ],
   "source": [
    "playlist_songs = [song['track']['name'] for song in shared_playlist]\n",
    "\n",
    "song_index = random.randrange(len(playlist_songs))\n",
    "\n",
    "print(playlist_songs[song_index])"
   ]
  },
  {
   "cell_type": "code",
   "execution_count": null,
   "id": "0b05df33",
   "metadata": {},
   "outputs": [],
   "source": []
  }
 ],
 "metadata": {
  "kernelspec": {
   "display_name": "venv",
   "language": "python",
   "name": "python3"
  },
  "language_info": {
   "codemirror_mode": {
    "name": "ipython",
    "version": 3
   },
   "file_extension": ".py",
   "mimetype": "text/x-python",
   "name": "python",
   "nbconvert_exporter": "python",
   "pygments_lexer": "ipython3",
   "version": "3.12.7"
  }
 },
 "nbformat": 4,
 "nbformat_minor": 5
}
