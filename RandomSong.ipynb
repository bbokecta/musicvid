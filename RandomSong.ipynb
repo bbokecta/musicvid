{
 "cells": [
  {
   "cell_type": "code",
   "execution_count": null,
   "id": "b11be319-8b85-4b6a-ae04-482080625c23",
   "metadata": {},
   "outputs": [],
   "source": [
    "import spotipy\n",
    "import json\n",
    "import webbrowser\n",
    "import urllib.request\n",
    "import spotipy.util as util"
   ]
  }
 ],
 "metadata": {
  "kernelspec": {
   "display_name": "venv",
   "language": "python",
   "name": "python3"
  },
  "language_info": {
   "codemirror_mode": {
    "name": "ipython",
    "version": 3
   },
   "file_extension": ".py",
   "mimetype": "text/x-python",
   "name": "python",
   "nbconvert_exporter": "python",
   "pygments_lexer": "ipython3",
   "version": "3.12.7"
  }
 },
 "nbformat": 4,
 "nbformat_minor": 5
}
