{
 "cells": [
  {
   "cell_type": "code",
   "execution_count": 8,
   "id": "b11be319-8b85-4b6a-ae04-482080625c23",
   "metadata": {},
   "outputs": [],
   "source": [
    "import spotipy\n",
    "import json\n",
    "import webbrowser\n",
    "import urllib.request\n",
    "import spotipy.util as util\n",
    "from spotipy.oauth2 import SpotifyOAuth"
   ]
  },
  {
   "cell_type": "code",
   "execution_count": null,
   "id": "291b977e",
   "metadata": {},
   "outputs": [
    {
     "name": "stdout",
     "output_type": "stream",
     "text": [
      "BQC5WWOetqKL4lJT6Ch4EVJKw-4vs2xYmlFsXsxVF1XA0gy7i5sxMnP6nMRiDlUnqy57zbW9IzDTEd6GFLmqWMpcoQ5LHDnBRo7JijSkQwNWH8P3PcRh3uYaRqdijBdlKgwzEYk4Am2MbWsoNmRgA6plYugUIYcOoBqL-ECDsu4dpiBp7nScjbWNWh-mG4pAzIH-zMqDJUkWQ1tUrilrIRm5X7sh_ND3unwVlwuo\n"
     ]
    }
   ],
   "source": [
    "cred = \"spotify_keys.json\"\n",
    "\n",
    "with open(cred, \"r\") as spotify_key_file:\n",
    "    api_tokens = json.load(spotify_key_file)\n",
    "\n",
    "# spotify_key_file.close()\n",
    "\n",
    "client_id = api_tokens['client_id']\n",
    "client_secret = api_tokens['client_secret']\n",
    "redirectURI = api_tokens['redirect']\n",
    "username = api_tokens['username']\n",
    "\n",
    "scope = 'user-read-private playlist-read-collaborative user-library-read'\n",
    "token = util.prompt_for_user_token(username, scope, client_id=client_id,\n",
    "                           client_secret=client_secret,\n",
    "                           redirect_uri=redirectURI)\n",
    "print(token)"
   ]
  },
  {
   "cell_type": "code",
   "execution_count": 38,
   "id": "fb41e424",
   "metadata": {},
   "outputs": [
    {
     "name": "stdout",
     "output_type": "stream",
     "text": [
      "Show Pony\n",
      "The Path\n",
      "Oscar Winning Tears.\n",
      "BIRDS OF A FEATHER\n",
      "A Tear in Space (Airlock)\n",
      "Wonderful Nothing - Edit\n",
      "Feel Alive\n",
      "Bossa No Sé (feat. Jean Carter)\n",
      "Aura\n",
      "Caution\n",
      "Karma\n",
      "Lovegod\n",
      "Creatures in Heaven\n",
      "Need You No More\n",
      "Sink In\n",
      "Ghost\n",
      "IDK You Yet\n",
      "Girl\n",
      "Slow\n",
      "Strawberries & Cigarettes\n",
      "Alaska\n",
      "Dive\n",
      "Stars & Shards\n",
      "Team\n",
      "Sociopathic Dance Queen\n",
      "Wait a Minute!\n",
      "Lonely Road\n",
      "Warm Honey\n",
      "Pacer\n",
      "Mohabbat\n",
      "Con Te Partirò\n",
      "Time To Say Goodbye\n",
      "Man Down\n",
      "Pon de Replay\n",
      "Take A Bow\n",
      "This Love\n",
      "Act Up\n",
      "Gasolina\n",
      "Big Hammer\n",
      "If The Car Beside You Moves Ahead\n",
      "Timeless\n",
      "MOON (feat. Herbie Hancock)\n",
      "Timeless\n",
      "The Wire\n",
      "Days Are Gone\n"
     ]
    }
   ],
   "source": [
    "\n",
    "sp = spotipy.Spotify(auth=token)\n",
    "\n",
    "playlists = sp.user_playlists(username)['items']\n",
    "\n",
    "for playlist in playlists:\n",
    "    if playlist['name'] == 'MusicVidPlaylistPt2':\n",
    "        shared_playlist_id = playlist['id']\n",
    "\n",
    "shared_playlist = sp.playlist_tracks(shared_playlist_id)['items']\n",
    "# print(shared_playlist[0]['track']['name'])\n",
    "\n",
    "for song in shared_playlist:\n",
    "    print(song['track']['name'])\n",
    "\n"
   ]
  },
  {
   "cell_type": "code",
   "execution_count": null,
   "id": "08c2ff21",
   "metadata": {},
   "outputs": [],
   "source": []
  }
 ],
 "metadata": {
  "kernelspec": {
   "display_name": "venv",
   "language": "python",
   "name": "python3"
  },
  "language_info": {
   "codemirror_mode": {
    "name": "ipython",
    "version": 3
   },
   "file_extension": ".py",
   "mimetype": "text/x-python",
   "name": "python",
   "nbconvert_exporter": "python",
   "pygments_lexer": "ipython3",
   "version": "3.12.7"
  }
 },
 "nbformat": 4,
 "nbformat_minor": 5
}
